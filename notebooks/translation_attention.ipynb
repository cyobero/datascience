{
  "nbformat": 4,
  "nbformat_minor": 0,
  "metadata": {
    "colab": {
      "name": "translation-attention.ipynb",
      "provenance": []
    },
    "kernelspec": {
      "name": "python3",
      "display_name": "Python 3"
    },
    "accelerator": "GPU"
  },
  "cells": [
    {
      "cell_type": "markdown",
      "metadata": {
        "id": "eA298DsvZZXS",
        "colab_type": "text"
      },
      "source": [
        "# Neural Machine Translation with Attention\n",
        "We train a sequence-to-sequence model (seq2seq) mdoel for Spanish to English translation. "
      ]
    },
    {
      "cell_type": "code",
      "metadata": {
        "id": "kel8TwPzZh_r",
        "colab_type": "code",
        "outputId": "70f37ec7-c96d-4964-801f-3362f726d312",
        "colab": {
          "base_uri": "https://localhost:8080/",
          "height": 62
        }
      },
      "source": [
        "from __future__ import absolute_import, print_function, division, unicode_literals\n",
        "\n",
        "import tensorflow as tf\n",
        "\n",
        "import matplotlib.pyplot as plt\n",
        "import matplotlib.ticker as ticker\n",
        "from sklearn.model_selection import train_test_split\n",
        "\n",
        "import unicodedata\n",
        "import re\n",
        "import numpy as np\n",
        "import os \n",
        "import io\n",
        "import time\n",
        "\n",
        "tf.enable_eager_execution()"
      ],
      "execution_count": 1,
      "outputs": [
        {
          "output_type": "display_data",
          "data": {
            "text/html": [
              "<p style=\"color: red;\">\n",
              "The default version of TensorFlow in Colab will soon switch to TensorFlow 2.x.<br>\n",
              "We recommend you <a href=\"https://www.tensorflow.org/guide/migrate\" target=\"_blank\">upgrade</a> now \n",
              "or ensure your notebook will continue to use TensorFlow 1.x via the <code>%tensorflow_version 1.x</code> magic:\n",
              "<a href=\"https://colab.research.google.com/notebooks/tensorflow_version.ipynb\" target=\"_blank\">more info</a>.</p>\n"
            ],
            "text/plain": [
              "<IPython.core.display.HTML object>"
            ]
          },
          "metadata": {
            "tags": []
          }
        }
      ]
    },
    {
      "cell_type": "markdown",
      "metadata": {
        "id": "ANaBOUoSZ593",
        "colab_type": "text"
      },
      "source": [
        "## Load and Preprocess Data\n",
        "We use a language dataset provided by http://www.manythings.org/anki/. This dataset contains language translation pairs in fhe format:\n",
        "\n",
        "    May I borrow this book? ¿Puedo tomar este libro?"
      ]
    },
    {
      "cell_type": "markdown",
      "metadata": {
        "id": "te6DQVu7adwA",
        "colab_type": "text"
      },
      "source": [
        "We will take the following steps to preprocess the data:\n",
        "\n",
        "1. Add a *start* and *end* token to each sentence. \n",
        "2. Clean the sentences by removing special characters.\n",
        "3. Create a word index and reverse word index. \n",
        "4. Pad each sentence to maximum length."
      ]
    },
    {
      "cell_type": "code",
      "metadata": {
        "id": "_vVZM4luay3c",
        "colab_type": "code",
        "colab": {}
      },
      "source": [
        "# download the file\n",
        "path_to_zip = tf.keras.utils.get_file(\n",
        "    'spa-eng.zip',\n",
        "    origin='https://storage.googleapis.com/download.tensorflow.org/data/spa-eng.zip',\n",
        "    extract=True \n",
        ")\n",
        "path_to_file = os.path.dirname(path_to_zip) + \"/spa-eng/spa.txt\""
      ],
      "execution_count": 0,
      "outputs": []
    },
    {
      "cell_type": "code",
      "metadata": {
        "id": "Yanlteqcbl7Z",
        "colab_type": "code",
        "colab": {}
      },
      "source": [
        "# convert unicode encoding to ascii\n",
        "def unicode_to_ascii(s):\n",
        "    return ''.join(c for c in unicodedata.normalize('NFD', s) \n",
        "        if unicodedata.category(c) != 'Mn')\n",
        "    \n",
        "\n",
        "def preprocess_sentence(sentence):\n",
        "    sentence = unicode_to_ascii(sentence.lower().strip())\n",
        "    \n",
        "    # create a space between a word and the punctuation following it\n",
        "    # e.g. \"she is a girl!\" becomes \"she is a girl !\"\n",
        "    sentence = re.sub(r\"([?.!,¿])\", r\" \\1\", sentence)\n",
        "    sentence = re.sub(r'[\" \"]+', \" \", sentence)\n",
        "\n",
        "    # replace everything with a space except (a-Z, A-Z, \".\", \"!\", \"?\", \",\", \"¿\")\n",
        "    sentence = re.sub(r\"[^a-zA-Z?.!,¿]+\", \" \", sentence)\n",
        "\n",
        "    sentence = sentence.lower().strip()\n",
        "\n",
        "    # add a start and end token to each sentence\n",
        "    # so model knows when to start and stop predicting\n",
        "    sentence = \"<start> \" + sentence + \" <end>\"\n",
        "\n",
        "    return sentence"
      ],
      "execution_count": 0,
      "outputs": []
    },
    {
      "cell_type": "code",
      "metadata": {
        "id": "bTOL39uUbnTw",
        "colab_type": "code",
        "outputId": "665ea3d5-e8ed-4497-ac55-222b43feed97",
        "colab": {
          "base_uri": "https://localhost:8080/",
          "height": 50
        }
      },
      "source": [
        "en_sentence = u\"May I borrow this book?\"\n",
        "sp_sentence = u\"¿Puedo tomar prestado este libro?\"\n",
        "\n",
        "print(preprocess_sentence(en_sentence))\n",
        "print(preprocess_sentence(sp_sentence).encode('utf-8'))"
      ],
      "execution_count": 4,
      "outputs": [
        {
          "output_type": "stream",
          "text": [
            "<start> may i borrow this book ? <end>\n",
            "b'<start> \\xc2\\xbfpuedo tomar prestado este libro ? <end>'\n"
          ],
          "name": "stdout"
        }
      ]
    },
    {
      "cell_type": "code",
      "metadata": {
        "id": "2q_JGdZfdgZT",
        "colab_type": "code",
        "colab": {}
      },
      "source": [
        "# remove accents, clean sentences, return word pairs in \n",
        "# format: [ENGLISH, SPANISH]\n",
        "def create_dataset(path, num_examples):\n",
        "    lines = io.open(path, encoding='UTF-8').read().strip().split('\\n')\n",
        "    word_pairs = [[preprocess_sentence(w) for w in l.split('\\t')] \n",
        "                  for l in lines[:num_examples]]\n",
        "    \n",
        "    return zip(*word_pairs)"
      ],
      "execution_count": 0,
      "outputs": []
    },
    {
      "cell_type": "code",
      "metadata": {
        "id": "4BHUuA51eWBm",
        "colab_type": "code",
        "outputId": "dd633968-796d-429e-fbe5-2c61e984922b",
        "colab": {
          "base_uri": "https://localhost:8080/",
          "height": 70
        }
      },
      "source": [
        "en, sp = create_dataset(path_to_file, None)\n",
        "\n",
        "print(en[-1])\n",
        "print(sp[-1])"
      ],
      "execution_count": 6,
      "outputs": [
        {
          "output_type": "stream",
          "text": [
            "<start> if you want to sound like a native speaker , you must be willing to practice saying the same sentence over and over in the same way that banjo players practice the same phrase over and over until they can play it correctly and at the desired tempo . <end>\n",
            "<start> si quieres sonar como un hablante nativo , debes estar dispuesto a practicar diciendo la misma frase una y otra vez de la misma manera en que un musico de banjo practica el mismo fraseo una y otra vez hasta que lo puedan tocar correctamente y en el tiempo esperado . <end>\n"
          ],
          "name": "stdout"
        }
      ]
    },
    {
      "cell_type": "code",
      "metadata": {
        "id": "ftsHFCPqeblE",
        "colab_type": "code",
        "colab": {}
      },
      "source": [
        "def max_length(tensor):\n",
        "    return max(len(t) for t in tensor)"
      ],
      "execution_count": 0,
      "outputs": []
    },
    {
      "cell_type": "code",
      "metadata": {
        "id": "hlkbXzX8fNw7",
        "colab_type": "code",
        "colab": {}
      },
      "source": [
        "def tokenize(lang):\n",
        "    lang_tokenizer = tf.keras.preprocessing.text.Tokenizer(\n",
        "        filters=''\n",
        "    )\n",
        "    lang_tokenizer.fit_on_texts(lang)\n",
        "\n",
        "    tensor = lang_tokenizer.texts_to_sequences(lang)\n",
        "    tensor = tf.keras.preprocessing.sequence.pad_sequences(\n",
        "        tensor, padding='post'\n",
        "    )\n",
        "\n",
        "    return tensor, lang_tokenizer"
      ],
      "execution_count": 0,
      "outputs": []
    },
    {
      "cell_type": "code",
      "metadata": {
        "id": "IssllqdCfd0y",
        "colab_type": "code",
        "colab": {}
      },
      "source": [
        "def load_dataset(path, num_examples=None):\n",
        "    # create cleaned input, output pairs\n",
        "    target_lang, input_lang = create_dataset(path, num_examples)\n",
        "\n",
        "    input_tensor, input_lang_tokenizer = tokenize(input_lang)\n",
        "    target_tensor, target_lang_tokenizer = tokenize(target_lang)\n",
        "\n",
        "    return input_tensor, target_tensor, input_lang_tokenizer, target_lang_tokenizer"
      ],
      "execution_count": 0,
      "outputs": []
    },
    {
      "cell_type": "markdown",
      "metadata": {
        "id": "Ko2TYCpff8OT",
        "colab_type": "text"
      },
      "source": [
        "### Limit Size of Dataset (Optional)\n",
        "Training on the complete dataset of >100,000 sentences will take a long time. To train faster, we can limit the size of the data set to 30-50K (at the expense of translation quality, of course)."
      ]
    },
    {
      "cell_type": "code",
      "metadata": {
        "id": "l0r23b8RgBxy",
        "colab_type": "code",
        "colab": {}
      },
      "source": [
        "# you can try experimenting with the size of the dataset\n",
        "num_examples = 50000\n",
        "input_tensor, target_tensor, input_lang, target_lang = load_dataset(\n",
        "    path_to_file, num_examples\n",
        ")\n",
        "\n",
        "# calculate max_length of the target tensors\n",
        "max_length_target, max_length_input = max_length(target_tensor), max_length(input_tensor)"
      ],
      "execution_count": 0,
      "outputs": []
    },
    {
      "cell_type": "code",
      "metadata": {
        "id": "i0Cb7M-Dgz5t",
        "colab_type": "code",
        "outputId": "e9281882-c244-4f88-d77a-3551c7354f07",
        "colab": {
          "base_uri": "https://localhost:8080/",
          "height": 33
        }
      },
      "source": [
        "# create training and test sets using 80/20 split\n",
        "input_tensor_train, input_tensor_test, target_tensor_train, target_tensor_test = train_test_split(input_tensor, target_tensor, test_size=0.2)\n",
        "\n",
        "print(len(input_tensor_train), len(target_tensor_train), len(input_tensor_test), len(target_tensor_test))"
      ],
      "execution_count": 11,
      "outputs": [
        {
          "output_type": "stream",
          "text": [
            "40000 40000 10000 10000\n"
          ],
          "name": "stdout"
        }
      ]
    },
    {
      "cell_type": "code",
      "metadata": {
        "id": "uDH8XDL0j-fk",
        "colab_type": "code",
        "colab": {}
      },
      "source": [
        "def convert(lang, tensor):\n",
        "    for t in tensor:\n",
        "        if t != 0:\n",
        "            print(\"%d -----> %s\" % (t, lang.index_word[t]))"
      ],
      "execution_count": 0,
      "outputs": []
    },
    {
      "cell_type": "code",
      "metadata": {
        "id": "5fk6eRa7kQGq",
        "colab_type": "code",
        "outputId": "56a93af9-ff86-4cd8-88c0-c6a98714cba0",
        "colab": {
          "base_uri": "https://localhost:8080/",
          "height": 350
        }
      },
      "source": [
        "print(\"input language; index to word mapping\")\n",
        "convert(input_lang, input_tensor_train[0])\n",
        "print()\n",
        "print(\"target language; index to word mapping\")\n",
        "convert(target_lang, target_tensor_train[0])"
      ],
      "execution_count": 13,
      "outputs": [
        {
          "output_type": "stream",
          "text": [
            "input language; index to word mapping\n",
            "1 -----> <start>\n",
            "59 -----> ¿por\n",
            "10 -----> que\n",
            "693 -----> dios\n",
            "14 -----> me\n",
            "15 -----> esta\n",
            "11665 -----> castigando\n",
            "4 -----> ?\n",
            "2 -----> <end>\n",
            "\n",
            "target language; index to word mapping\n",
            "1 -----> <start>\n",
            "73 -----> why\n",
            "8 -----> is\n",
            "645 -----> god\n",
            "6034 -----> punishing\n",
            "16 -----> me\n",
            "6 -----> ?\n",
            "2 -----> <end>\n"
          ],
          "name": "stdout"
        }
      ]
    },
    {
      "cell_type": "markdown",
      "metadata": {
        "id": "GIuS0ku_kfQa",
        "colab_type": "text"
      },
      "source": [
        "### Create a tf.data Dataset"
      ]
    },
    {
      "cell_type": "code",
      "metadata": {
        "id": "xlMqulBtk77o",
        "colab_type": "code",
        "colab": {}
      },
      "source": [
        "BUFFER_SIZE = len(input_tensor_train)\n",
        "BATCH_SIZE = 64\n",
        "steps_per_epoch = len(input_tensor_train)//BATCH_SIZE \n",
        "embedding_dim = 256\n",
        "units = 1024\n",
        "vocab_input_size = len(input_lang.word_index) + 1\n",
        "vocab_target_size = len(target_lang.word_index) + 1\n",
        "\n",
        "dataset = tf.data.Dataset.from_tensor_slices(\n",
        "    (input_tensor_train, target_tensor_train))\n",
        "dataset = dataset.shuffle(BUFFER_SIZE)\n",
        "dataset = dataset.batch(BATCH_SIZE, drop_remainder=True)"
      ],
      "execution_count": 0,
      "outputs": []
    },
    {
      "cell_type": "code",
      "metadata": {
        "id": "_h7QcyE6l84M",
        "colab_type": "code",
        "outputId": "baa235f5-22a4-46ce-938c-0186311f703c",
        "colab": {
          "base_uri": "https://localhost:8080/",
          "height": 50
        }
      },
      "source": [
        "example_input_batch, example_target_batch = next(iter(dataset))\n",
        "example_input_batch.shape, example_target_batch.shape"
      ],
      "execution_count": 15,
      "outputs": [
        {
          "output_type": "execute_result",
          "data": {
            "text/plain": [
              "(TensorShape([Dimension(64), Dimension(16)]),\n",
              " TensorShape([Dimension(64), Dimension(12)]))"
            ]
          },
          "metadata": {
            "tags": []
          },
          "execution_count": 15
        }
      ]
    },
    {
      "cell_type": "markdown",
      "metadata": {
        "id": "2YE9Dd9wmCJi",
        "colab_type": "text"
      },
      "source": [
        "## Write Encoder and Decoder Model \n",
        "We implement an encoder-decoder model with attention which you can read more about [here](https://github.com/tensorflow/nmt). This tutorial implements the [attention equations](https://github.com/tensorflow/nmt#background-on-the-attention-mechanism) from the aforementioned seq2seq tutorial. The diagram below shows that each input word is assigned a weight by the attention mechanism which is then used by the decoder to predict the next word in the sentence. More can be read from [Luong's paper](https://arxiv.org/abs/1508.04025v5). \n",
        "\n",
        "![](https://www.tensorflow.org/images/seq2seq/attention_mechanism.jpg)"
      ]
    },
    {
      "cell_type": "markdown",
      "metadata": {
        "id": "tHMQaiX6nSaX",
        "colab_type": "text"
      },
      "source": [
        "The input is put through an encoder model which gives us the encoder output of shape `(batch_size, max_length, hidden_size)` and the encoder hidden state of shape `(batch_size, hidden_size)`. \n",
        "\n",
        "Here are the equations that are implemented:\n",
        "\n",
        "$$\n",
        "\\begin{aligned}\n",
        "& \\alpha_{ts} = \\frac{\\exp{\\big(\\text{score}(h_{t}, \\bar{h}_{s}) \\big)}}{\\sum_{s'=1}^{S}\\exp{\\big( \\text{score}(h_{t}, \\bar{h}_{s'} \\big)}} && \\text{[Attention Weights]} & (1) \\\\\\\\\n",
        "& c_{t} = \\sum_{s}{\\alpha_{ts}\\bar{h}_{s}} && \\text{[Context Vector]} & (2) \\\\\\\\\n",
        "& \\alpha_{t} = f(c_{t}, h_{t})\n",
        "= \\tanh{\\big(\\mathbf{W}_{c}\\big[ c_{i} ; h_{t} \\big] \\big)}  && \\text{[Attention Vector]} & (3) \\\\\\\\\n",
        "& \\text{score}(h_{t}, \\bar{h}_{s}) = \n",
        "\\begin{cases}\n",
        "h_{t}^\\intercal\\mathbf{W}\\bar{h}_{s} &&&& \\text{[Luong's multiplicative style]} \\\\\n",
        "v_{\\alpha}^\\intercal \\tanh{\\big( \\mathbf{W}_{1}h_{t} + \\mathbf{W}_{2}\\bar{h}_{s}\\big)} &&&& \\text{[Bahdanau's additive style]}\n",
        "\\end{cases}\n",
        "\\end{aligned} \n",
        "$$"
      ]
    },
    {
      "cell_type": "markdown",
      "metadata": {
        "id": "V4arC9scuC-F",
        "colab_type": "text"
      },
      "source": [
        "We use [Bahdanau attention](https://arxiv.org/pdf/1409.0473.pdf) for the encoder. Some important notations for our purposes:\n",
        "\n",
        "- `FC` = Fully Connected Layer\n",
        "- `EO` = Encoder Output\n",
        "- `H` = Hidden State\n",
        "- `X` = Input to the Decoder\n",
        "\n",
        "...and the pseudo-code:\n",
        "- `score=FC(tanh(FC(EO) + FC(H)))` \n",
        "- `attention weights = softmax(score, axis = 1)`. Softmax by default is applied on the last axis but we want to apply it on the 1st axis (not -1), since the shape of score is `(batch_size, max_length, hidden_size)`. `max_length` is the length of our input. Since we are trying to assign a weight to each input, softmax should be applied on that axis. \n",
        "- `context vector = sum(attention weights * EO, axis = 1)`. Same reason as above for choosing axis as 1. \n",
        "- `merged vector = concat(embedding output, context vector)`.\n",
        "- The merged vector is then given to the [GRU](https://en.wikipedia.org/wiki/Gated_recurrent_unit). \n"
      ]
    },
    {
      "cell_type": "code",
      "metadata": {
        "id": "B_KYqt7cvrSX",
        "colab_type": "code",
        "colab": {}
      },
      "source": [
        "class Encoder(tf.keras.Model):\n",
        "\n",
        "    def __init__(self, vocab_size, embedding_dim, enc_units, batch_size):\n",
        "        super(Encoder, self).__init__()\n",
        "        self.batch_size = batch_size\n",
        "        self.enc_units = enc_units\n",
        "        self.embedding = tf.keras.layers.Embedding(vocab_size, embedding_dim)\n",
        "        self.gru = tf.keras.layers.GRU(self.enc_units, \n",
        "                                       return_sequences=True, \n",
        "                                       return_state=True, \n",
        "                                       recurrent_initializer='glorot_uniform')\n",
        "        \n",
        "    def call(self, x, hidden):\n",
        "        x = self.embedding(x)\n",
        "        output, state = self.gru(x, initial_state=hidden)\n",
        "        return output, state\n",
        "\n",
        "    def initialize_hidden_state(self):\n",
        "        return tf.zeros((self.batch_size, self.enc_units))"
      ],
      "execution_count": 0,
      "outputs": []
    },
    {
      "cell_type": "code",
      "metadata": {
        "id": "tIgDwTxjwPUC",
        "colab_type": "code",
        "outputId": "d3dc8efa-d33d-49d8-e060-2029335a9423",
        "colab": {
          "base_uri": "https://localhost:8080/",
          "height": 50
        }
      },
      "source": [
        "encoder = Encoder(vocab_input_size, embedding_dim, units, BATCH_SIZE)\n",
        "\n",
        "# sample input\n",
        "sample_hidden = encoder.initialize_hidden_state()\n",
        "sample_output, sample_hidden = encoder(example_input_batch, sample_hidden)\n",
        "\n",
        "print(\"Encoder output shape: (batch_size, seq_len, units): {}\".format(\n",
        "    sample_output.shape))\n",
        "print(\"Encoder hidden state shape: (batch size, units) {}\".format(\n",
        "    sample_hidden.shape))"
      ],
      "execution_count": 17,
      "outputs": [
        {
          "output_type": "stream",
          "text": [
            "Encoder output shape: (batch_size, seq_len, units): (64, 16, 1024)\n",
            "Encoder hidden state shape: (batch size, units) (64, 1024)\n"
          ],
          "name": "stdout"
        }
      ]
    },
    {
      "cell_type": "code",
      "metadata": {
        "id": "eE61ypdixMbc",
        "colab_type": "code",
        "colab": {}
      },
      "source": [
        "class BahdanauAttention(tf.keras.layers.Layer):\n",
        "\n",
        "    def __init__(self, units):\n",
        "        super(BahdanauAttention, self).__init__()\n",
        "        self.W1 = tf.keras.layers.Dense(units)\n",
        "        self.W2 = tf.keras.layers.Dense(units)\n",
        "        self.V = tf.keras.layers.Dense(1)\n",
        "\n",
        "    def call(self, query, values):\n",
        "        # hidden shape == (batch_size, hidden size)\n",
        "        # hidden_with_time_axis shape == (batch_size, 1, hidden_size)\n",
        "        # we do this to perform ddition to calculate the score\n",
        "        hidden_with_time_axis = tf.expand_dims(query, 1)\n",
        "\n",
        "        # score shape == (batch_size, max_length, 1)\n",
        "        # we get 1 at the last axis because we are applying score to self.V\n",
        "        # the shape of the tensor before applying self.V is (batch_size, max_lengths, units)\n",
        "        score = self.V(tf.nn.tanh(\n",
        "            self.W1(values) + self.W2(hidden_with_time_axis)\n",
        "        ))\n",
        "\n",
        "        # attention_weights shape == (batch_size, max_length, 1)\n",
        "        attention_weights = tf.nn.softmax(score, axis=1)\n",
        "\n",
        "        # contect_vector shape after sum == (batch_size, hidden_size)\n",
        "        context_vector = attention_weights * values\n",
        "        context_vector = tf.reduce_sum(context_vector, axis=1)\n",
        "\n",
        "        return context_vector, attention_weights \n"
      ],
      "execution_count": 0,
      "outputs": []
    },
    {
      "cell_type": "code",
      "metadata": {
        "id": "L9w0Iotszk9A",
        "colab_type": "code",
        "outputId": "783d6f9f-e002-471c-a7c6-7ed69e7e4736",
        "colab": {
          "base_uri": "https://localhost:8080/",
          "height": 50
        }
      },
      "source": [
        "attention_layer = BahdanauAttention(10)\n",
        "attention_result, attention_weights = attention_layer(sample_hidden, sample_output)\n",
        "\n",
        "print(\"Attention result shape: (batch size, units) {}\".format(attention_result.shape))\n",
        "print(\"Attention weights shape: (batch_size, sequence_length, 1) {}\".format(attention_weights.shape))"
      ],
      "execution_count": 19,
      "outputs": [
        {
          "output_type": "stream",
          "text": [
            "Attention result shape: (batch size, units) (64, 1024)\n",
            "Attention weights shape: (batch_size, sequence_length, 1) (64, 16, 1)\n"
          ],
          "name": "stdout"
        }
      ]
    },
    {
      "cell_type": "code",
      "metadata": {
        "id": "M8uCppT5z4It",
        "colab_type": "code",
        "colab": {}
      },
      "source": [
        "class Decoder(tf.keras.Model):\n",
        "\n",
        "    def __init__(self, vocab_size, embedding_dim, dec_units, batch_size):\n",
        "        super(Decoder, self).__init__()\n",
        "        self.batch_size = batch_size\n",
        "        self.dec_units = dec_units\n",
        "        self.embedding = tf.keras.layers.Embedding(vocab_size, embedding_dim)\n",
        "        self.gru = tf.keras.layers.GRU(self.dec_units, \n",
        "                                       return_sequences=True, \n",
        "                                       return_state=True, \n",
        "                                       recurrent_initializer='glorot_uniform')\n",
        "        self.fc = tf.keras.layers.Dense(vocab_size)\n",
        "\n",
        "        # used for attention \n",
        "        self.attention = BahdanauAttention(self.dec_units)\n",
        "\n",
        "    def call(self, x, hidden, enc_output):\n",
        "        # enc_output shape == (batch_size, max_length, hidden_size)\n",
        "        context_vector, attention_weights = self.attention(hidden, enc_output)\n",
        "\n",
        "        # x shape after passing through embedding == (batch_size, 1, embedding_dim)\n",
        "        x = self.embedding(x)\n",
        "\n",
        "        # x shape after concatenation == (batch_size, 1, embedding_dim + hidden_size)\n",
        "        x = tf.concat([tf.expand_dims(context_vector, 1), x], axis=-1) \n",
        "\n",
        "        # pass the concatenated vector the GRU\n",
        "        output, state = self.gru(x)\n",
        "\n",
        "        # output shape == (batch_size * 1, hidden_size)\n",
        "        output = tf.reshape(output, (-1, output.shape[2]))\n",
        "\n",
        "        # output shape == (batch_size, vocab)\n",
        "        x = self.fc(output)\n",
        "\n",
        "        return x, state, attention_weights"
      ],
      "execution_count": 0,
      "outputs": []
    },
    {
      "cell_type": "code",
      "metadata": {
        "id": "jRKQwxte1KPb",
        "colab_type": "code",
        "outputId": "1f298a32-b1b0-4785-99ee-78ad5141d73d",
        "colab": {
          "base_uri": "https://localhost:8080/",
          "height": 33
        }
      },
      "source": [
        "decoder = Decoder(vocab_target_size, embedding_dim, units, BATCH_SIZE)\n",
        "\n",
        "sample_decoder_output, _, _ = decoder(tf.random.uniform((BATCH_SIZE, 1)),\n",
        "                                      sample_hidden, sample_output)\n",
        "\n",
        "print ('Decoder output shape: (batch_size, vocab size) {}'.format(sample_decoder_output.shape))"
      ],
      "execution_count": 21,
      "outputs": [
        {
          "output_type": "stream",
          "text": [
            "Decoder output shape: (batch_size, vocab size) (64, 6820)\n"
          ],
          "name": "stdout"
        }
      ]
    },
    {
      "cell_type": "markdown",
      "metadata": {
        "id": "oUbP-4Rk-Fte",
        "colab_type": "text"
      },
      "source": [
        "## Define Optimizer and Loss Function"
      ]
    },
    {
      "cell_type": "code",
      "metadata": {
        "id": "znS_TBMK-JEI",
        "colab_type": "code",
        "colab": {}
      },
      "source": [
        "optimizer = tf.keras.optimizers.Adam()\n",
        "loss_object = tf.keras.losses.SparseCategoricalCrossentropy(\n",
        "    from_logits=True, reduction='none')\n",
        "\n",
        "def loss_function(real, pred):\n",
        "    mask = tf.math.logical_not(tf.math.equal(real, 0))\n",
        "    loss_ = loss_object(real, pred)\n",
        "\n",
        "    mask = tf.cast(mask, dtype=loss_.dtype)\n",
        "    loss_ *= mask\n",
        "\n",
        "    return tf.reduce_mean(loss_)"
      ],
      "execution_count": 0,
      "outputs": []
    },
    {
      "cell_type": "markdown",
      "metadata": {
        "id": "zbJlVWZI-d0N",
        "colab_type": "text"
      },
      "source": [
        "## Set Up Checkpoints (Object-based Saving) "
      ]
    },
    {
      "cell_type": "code",
      "metadata": {
        "id": "OltrIUKG-i24",
        "colab_type": "code",
        "colab": {}
      },
      "source": [
        "checkpoint_dir = './training_checkpoints'\n",
        "checkpoint_prefix = os.path.join(checkpoint_dir, \"ckpt\")\n",
        "checkpoint = tf.train.Checkpoint(optimizer=optimizer, \n",
        "                                 encoder=encoder, \n",
        "                                 decoder=decoder)"
      ],
      "execution_count": 0,
      "outputs": []
    },
    {
      "cell_type": "markdown",
      "metadata": {
        "id": "Lh-ccMbM-u_6",
        "colab_type": "text"
      },
      "source": [
        "## Training\n",
        "1. Pass the input through the encoder which returns encoder output and encoder hidden state.\n",
        "2. The encoder output, encoder hidden state and the decoder input (which is the start token) is passed to the decoder. \n",
        "3. The decoder returns the predictions and the decoder hidden state. \n",
        "4. The decoder hidden state is then passed back into the model and the predictions are used to calculate the loss. \n",
        "5. Use teacher forcing to decide the next input to the decoder. \n",
        "6. Teacher forcing is the technique where the target word is passed as the next input to the decoder. \n",
        "7. The final step is to calculate the gradients and apply it to the optimizer and backpropagate. "
      ]
    },
    {
      "cell_type": "code",
      "metadata": {
        "id": "y5ftqgOY_gAh",
        "colab_type": "code",
        "colab": {}
      },
      "source": [
        "@tf.function\n",
        "def train_step(inp, target, enc_hidden):\n",
        "    loss = 0\n",
        "\n",
        "    with tf.GradientTape() as tape:\n",
        "        enc_output, enc_hidden = encoder(inp, enc_hidden)\n",
        "\n",
        "        dec_hidden = enc_hidden\n",
        "        dec_input = tf.expand_dims(\n",
        "            [target_lang.word_index['<start>']] * BATCH_SIZE, 1)\n",
        "        \n",
        "        # teacher forcing - feeding the target as the next input\n",
        "        for t in range(1, target.shape[1]):\n",
        "            # passing enc_output to decoder\n",
        "            predictions, dec_hidden, _ = decoder(dec_input, \n",
        "                                                 dec_hidden, enc_output)\n",
        "            \n",
        "            loss += loss_function(target[:, t], predictions)\n",
        "\n",
        "            # using teacher forcing\n",
        "            dec_input = tf.expand_dims(target[:, t], 1)\n",
        "\n",
        "        batch_loss = (loss / int(target.shape[1]))\n",
        "        variables = encoder.trainable_variables + decoder.trainable_variables\n",
        "        gradients = tape.gradient(loss, variables)\n",
        "        optimizer.apply_gradients(zip(gradients, variables))\n",
        "\n",
        "        return batch_loss"
      ],
      "execution_count": 0,
      "outputs": []
    },
    {
      "cell_type": "code",
      "metadata": {
        "id": "HFi5OryiAeN4",
        "colab_type": "code",
        "outputId": "f683c3b6-4f5a-4b72-d1a9-916cce4e02c3",
        "colab": {
          "base_uri": "https://localhost:8080/",
          "height": 1000
        }
      },
      "source": [
        "EPOCHS = 10\n",
        "\n",
        "for epoch in range(EPOCHS):\n",
        "    start = time.time()\n",
        "\n",
        "    enc_hidden = encoder.initialize_hidden_state()\n",
        "    total_loss = 0\n",
        "\n",
        "    for (batch, (inp, target)) in enumerate(dataset.take(steps_per_epoch)):\n",
        "        batch_loss = train_step(inp, target, enc_hidden)\n",
        "        total_loss += batch_loss\n",
        "\n",
        "        if batch % 100 == 0:\n",
        "            print(\"Epoch {} Batch {} Loss {:.4f}\".format(epoch+1, \n",
        "                                                         batch, \n",
        "                                                         batch_loss.numpy()))\n",
        "            \n",
        "            # saving (checkpoint) the mdoel every 2 epochs\n",
        "    if (epoch + 1) % 2 == 0:\n",
        "            checkpoint.save(file_prefix=checkpoint_prefix)\n",
        "    print(\"Epoch {} Loss {:.4f}\".format(epoch+1, \n",
        "                                        total_loss /steps_per_epoch))\n",
        "    print(\"Time taken for 1 epoch {} sec\\n\".format(time.time() - start))"
      ],
      "execution_count": 25,
      "outputs": [
        {
          "output_type": "stream",
          "text": [
            "WARNING:tensorflow:From /usr/local/lib/python3.6/dist-packages/tensorflow_core/python/ops/math_grad.py:1424: where (from tensorflow.python.ops.array_ops) is deprecated and will be removed in a future version.\n",
            "Instructions for updating:\n",
            "Use tf.where in 2.0, which has the same broadcast rule as np.where\n",
            "Epoch 1 Batch 0 Loss 4.7700\n",
            "Epoch 1 Batch 100 Loss 2.3815\n",
            "Epoch 1 Batch 200 Loss 2.1082\n",
            "Epoch 1 Batch 300 Loss 1.8406\n",
            "Epoch 1 Batch 400 Loss 1.6718\n",
            "Epoch 1 Batch 500 Loss 1.6319\n",
            "Epoch 1 Batch 600 Loss 1.3284\n",
            "Epoch 1 Loss 1.9353\n",
            "Time taken for 1 epoch 217.24317169189453 sec\n",
            "\n",
            "Epoch 2 Batch 0 Loss 1.3738\n",
            "Epoch 2 Batch 100 Loss 1.3911\n",
            "Epoch 2 Batch 200 Loss 1.2915\n",
            "Epoch 2 Batch 300 Loss 1.2162\n",
            "Epoch 2 Batch 400 Loss 1.0742\n",
            "Epoch 2 Batch 500 Loss 1.0467\n",
            "Epoch 2 Batch 600 Loss 0.8213\n",
            "Epoch 2 Loss 1.1402\n",
            "Time taken for 1 epoch 185.2908535003662 sec\n",
            "\n",
            "Epoch 3 Batch 0 Loss 0.8635\n",
            "Epoch 3 Batch 100 Loss 0.8628\n",
            "Epoch 3 Batch 200 Loss 0.8171\n",
            "Epoch 3 Batch 300 Loss 0.7954\n",
            "Epoch 3 Batch 400 Loss 0.6665\n",
            "Epoch 3 Batch 500 Loss 0.6278\n",
            "Epoch 3 Batch 600 Loss 0.4766\n",
            "Epoch 3 Loss 0.7066\n",
            "Time taken for 1 epoch 183.79998779296875 sec\n",
            "\n",
            "Epoch 4 Batch 0 Loss 0.5723\n",
            "Epoch 4 Batch 100 Loss 0.5915\n",
            "Epoch 4 Batch 200 Loss 0.5012\n",
            "Epoch 4 Batch 300 Loss 0.5186\n",
            "Epoch 4 Batch 400 Loss 0.4237\n",
            "Epoch 4 Batch 500 Loss 0.3713\n",
            "Epoch 4 Batch 600 Loss 0.2946\n",
            "Epoch 4 Loss 0.4422\n",
            "Time taken for 1 epoch 183.8538374900818 sec\n",
            "\n",
            "Epoch 5 Batch 0 Loss 0.4012\n",
            "Epoch 5 Batch 100 Loss 0.3780\n",
            "Epoch 5 Batch 200 Loss 0.2861\n",
            "Epoch 5 Batch 300 Loss 0.3342\n",
            "Epoch 5 Batch 400 Loss 0.2845\n",
            "Epoch 5 Batch 500 Loss 0.2751\n",
            "Epoch 5 Batch 600 Loss 0.2048\n",
            "Epoch 5 Loss 0.2855\n",
            "Time taken for 1 epoch 183.18964648246765 sec\n",
            "\n",
            "Epoch 6 Batch 0 Loss 0.2933\n",
            "Epoch 6 Batch 100 Loss 0.2201\n",
            "Epoch 6 Batch 200 Loss 0.1967\n",
            "Epoch 6 Batch 300 Loss 0.1999\n",
            "Epoch 6 Batch 400 Loss 0.1728\n",
            "Epoch 6 Batch 500 Loss 0.1839\n",
            "Epoch 6 Batch 600 Loss 0.1468\n",
            "Epoch 6 Loss 0.1958\n",
            "Time taken for 1 epoch 185.67804050445557 sec\n",
            "\n",
            "Epoch 7 Batch 0 Loss 0.2104\n",
            "Epoch 7 Batch 100 Loss 0.1622\n",
            "Epoch 7 Batch 200 Loss 0.1457\n",
            "Epoch 7 Batch 300 Loss 0.1589\n",
            "Epoch 7 Batch 400 Loss 0.1257\n",
            "Epoch 7 Batch 500 Loss 0.1502\n",
            "Epoch 7 Batch 600 Loss 0.1296\n",
            "Epoch 7 Loss 0.1436\n",
            "Time taken for 1 epoch 182.96677660942078 sec\n",
            "\n",
            "Epoch 8 Batch 0 Loss 0.1741\n",
            "Epoch 8 Batch 100 Loss 0.1509\n",
            "Epoch 8 Batch 200 Loss 0.0985\n",
            "Epoch 8 Batch 300 Loss 0.1511\n",
            "Epoch 8 Batch 400 Loss 0.1183\n",
            "Epoch 8 Batch 500 Loss 0.1233\n",
            "Epoch 8 Batch 600 Loss 0.1020\n",
            "Epoch 8 Loss 0.1141\n",
            "Time taken for 1 epoch 182.66554069519043 sec\n",
            "\n",
            "Epoch 9 Batch 0 Loss 0.1606\n",
            "Epoch 9 Batch 100 Loss 0.1088\n",
            "Epoch 9 Batch 200 Loss 0.0759\n",
            "Epoch 9 Batch 300 Loss 0.1151\n",
            "Epoch 9 Batch 400 Loss 0.0740\n",
            "Epoch 9 Batch 500 Loss 0.0942\n",
            "Epoch 9 Batch 600 Loss 0.0970\n",
            "Epoch 9 Loss 0.0934\n",
            "Time taken for 1 epoch 182.47138857841492 sec\n",
            "\n",
            "Epoch 10 Batch 0 Loss 0.1200\n",
            "Epoch 10 Batch 100 Loss 0.0785\n",
            "Epoch 10 Batch 200 Loss 0.0526\n",
            "Epoch 10 Batch 300 Loss 0.0996\n",
            "Epoch 10 Batch 400 Loss 0.0845\n",
            "Epoch 10 Batch 500 Loss 0.0896\n",
            "Epoch 10 Batch 600 Loss 0.0887\n",
            "Epoch 10 Loss 0.0797\n",
            "Time taken for 1 epoch 184.71836376190186 sec\n",
            "\n"
          ],
          "name": "stdout"
        }
      ]
    },
    {
      "cell_type": "markdown",
      "metadata": {
        "id": "OVoV62eUA198",
        "colab_type": "text"
      },
      "source": [
        "## Translate"
      ]
    },
    {
      "cell_type": "code",
      "metadata": {
        "id": "zAx34MdLMPex",
        "colab_type": "code",
        "colab": {}
      },
      "source": [
        "def evaluate(sentence):\n",
        "    attention_plot = np.zeros((max_length_target, max_length_input))\n",
        "\n",
        "    sentence = preprocess_sentence(sentence)\n",
        "\n",
        "    inputs = [input_lang.word_index[i] for i in sentence.split(' ')]\n",
        "    inputs = tf.keras.preprocessing.sequence.pad_sequences([inputs], \n",
        "                                                           maxlen=max_length_input, \n",
        "                                                           padding='post')\n",
        "    inputs = tf.convert_to_tensor(inputs)\n",
        "\n",
        "    result = ''\n",
        "\n",
        "    hidden = [tf.zeros((1, units))]\n",
        "    enc_out, enc_hidden = encoder(inputs, hidden)\n",
        "\n",
        "    dec_hidden = enc_hidden\n",
        "    dec_input = tf.expand_dims([target_lang.word_index['<start>']], 0)\n",
        "\n",
        "    for t in range(max_length_target):\n",
        "        predictions, dec_hidden, attention_weights = decoder(dec_input, \n",
        "                                                             dec_hidden, \n",
        "                                                             enc_out)\n",
        "        \n",
        "        # storing attention weights to plot later on\n",
        "        attention_weights = tf.reshape(attention_weights, (-1, ))\n",
        "        attention_plot[t] = attention_weights.numpy()\n",
        "\n",
        "        predicted_id = tf.argmax(predictions[0]).numpy()\n",
        "\n",
        "        result += target_lang.index_word[predicted_id] + ' '\n",
        "        \n",
        "        if target_lang.index_word[predicted_id] == '<end>':\n",
        "            return result, sentence, attention_plot\n",
        "\n",
        "        # if predited ID is fed back into the model \n",
        "        dec_input = tf.expand_dims([predicted_id], 0)\n",
        "\n",
        "    return result, sentence, attention_plot"
      ],
      "execution_count": 0,
      "outputs": []
    },
    {
      "cell_type": "code",
      "metadata": {
        "id": "vu_RWN1baoCJ",
        "colab_type": "code",
        "colab": {}
      },
      "source": [
        "# function for plotting the attention weights\n",
        "def plot_attention(attention, sentence, predicted_sentence):\n",
        "    fig = plt.figure(figsize=(10, 10))\n",
        "    ax = fig.add_subplot(1, 1, 1)\n",
        "    ax.matshow(attention, cmap='viridis')\n",
        "\n",
        "    fontdict = {'fontsize': 14}\n",
        "\n",
        "    ax.set_xticklabels([''] + sentence, fontdict=fontdict, rotation=90)\n",
        "    ax.set_yticklabels([''] + predicted_sentence, fontdict=fontdict)\n",
        "\n",
        "    ax.xaxis.set_major_locator(ticker.MultipleLocator(1))\n",
        "    ax.yaxis.set_major_locator(ticker.MultipleLocator(1))\n",
        "\n",
        "    plt.show()"
      ],
      "execution_count": 0,
      "outputs": []
    },
    {
      "cell_type": "code",
      "metadata": {
        "id": "BqIUCde8l_CR",
        "colab_type": "code",
        "colab": {}
      },
      "source": [
        "def translate(sentence):\n",
        "    result, sentence, attention_plot = evaluate(sentence)\n",
        "\n",
        "    print(\"Input: %s\" % (sentence))\n",
        "    print(\"Predicted translation: {}\".format(result))\n",
        "\n",
        "    attention_plot[:len(result.split(' ')), :len(sentence.split(' '))]\n",
        "    plot_attention(attention_plot, sentence.split(' '), result.split(' '))"
      ],
      "execution_count": 0,
      "outputs": []
    },
    {
      "cell_type": "markdown",
      "metadata": {
        "id": "312TcQC3mSPN",
        "colab_type": "text"
      },
      "source": [
        "### Restore Latest Checkpoint and Test"
      ]
    },
    {
      "cell_type": "code",
      "metadata": {
        "id": "hIjHvPDamdS1",
        "colab_type": "code",
        "colab": {
          "base_uri": "https://localhost:8080/",
          "height": 33
        },
        "outputId": "73810f12-d46d-4f2f-ea22-09aaa3a9769c"
      },
      "source": [
        "# restoring the latest checkpoint in checkpoint_dir\n",
        "checkpoint.restore(tf.train.latest_checkpoint(checkpoint_dir))"
      ],
      "execution_count": 44,
      "outputs": [
        {
          "output_type": "execute_result",
          "data": {
            "text/plain": [
              "<tensorflow.python.training.tracking.util.CheckpointLoadStatus at 0x7f2dd2e82cf8>"
            ]
          },
          "metadata": {
            "tags": []
          },
          "execution_count": 44
        }
      ]
    },
    {
      "cell_type": "code",
      "metadata": {
        "id": "jopHW1EcmiaK",
        "colab_type": "code",
        "colab": {
          "base_uri": "https://localhost:8080/",
          "height": 548
        },
        "outputId": "a2c0f437-05c1-4e11-e064-3b9d1722cb5e"
      },
      "source": [
        "translate(u'como te llamas?')"
      ],
      "execution_count": 48,
      "outputs": [
        {
          "output_type": "stream",
          "text": [
            "Input: <start> como te llamas ? <end>\n",
            "Predicted translation: what s your name ? <end> \n"
          ],
          "name": "stdout"
        },
        {
          "output_type": "display_data",
          "data": {
            "image/png": "[encoded data removed]",
            "text/plain": [
              "<Figure size 720x720 with 1 Axes>"
            ]
          },
          "metadata": {
            "tags": []
          }
        }
      ]
    },
    {
      "cell_type": "code",
      "metadata": {
        "id": "dbrI_I26mka_",
        "colab_type": "code",
        "colab": {
          "base_uri": "https://localhost:8080/",
          "height": 548
        },
        "outputId": "077a3d4f-1afd-4c13-c0d4-872d83d131fa"
      },
      "source": [
        "translate(u'esta es mi vida')"
      ],
      "execution_count": 49,
      "outputs": [
        {
          "output_type": "stream",
          "text": [
            "Input: <start> esta es mi vida <end>\n",
            "Predicted translation: this is my life . <end> \n"
          ],
          "name": "stdout"
        },
        {
          "output_type": "display_data",
          "data": {
            "image/png": "[encoded data removed]",
            "text/plain": [
              "<Figure size 720x720 with 1 Axes>"
            ]
          },
          "metadata": {
            "tags": []
          }
        }
      ]
    },
    {
      "cell_type": "code",
      "metadata": {
        "id": "Fv7wHwmCnnQB",
        "colab_type": "code",
        "colab": {
          "base_uri": "https://localhost:8080/",
          "height": 553
        },
        "outputId": "610599ff-ef0e-4de2-b67f-ab5daffcd543"
      },
      "source": [
        "translate(u'¿todavia estan en casa?')"
      ],
      "execution_count": 50,
      "outputs": [
        {
          "output_type": "stream",
          "text": [
            "Input: <start> ¿todavia estan en casa ? <end>\n",
            "Predicted translation: are you at home ? <end> \n"
          ],
          "name": "stdout"
        },
        {
          "output_type": "display_data",
          "data": {
            "image/png": "[encoded data removed]",
            "text/plain": [
              "<Figure size 720x720 with 1 Axes>"
            ]
          },
          "metadata": {
            "tags": []
          }
        }
      ]
    },
    {
      "cell_type": "code",
      "metadata": {
        "id": "cOAJ0UAKnxsT",
        "colab_type": "code",
        "colab": {
          "base_uri": "https://localhost:8080/",
          "height": 560
        },
        "outputId": "e75ff7ea-410c-4c7c-ea42-f6b0fd122173"
      },
      "source": [
        "translate(u'un momento por favor')"
      ],
      "execution_count": 51,
      "outputs": [
        {
          "output_type": "stream",
          "text": [
            "Input: <start> un momento por favor <end>\n",
            "Predicted translation: for a moment , please . <end> \n"
          ],
          "name": "stdout"
        },
        {
          "output_type": "display_data",
          "data": {
            "image/png": "[encoded data removed]",
            "text/plain": [
              "<Figure size 720x720 with 1 Axes>"
            ]
          },
          "metadata": {
            "tags": []
          }
        }
      ]
    }
  ]
}